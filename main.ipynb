{
  "cells": [
    {
      "cell_type": "markdown",
      "metadata": {
        "id": "view-in-github",
        "colab_type": "text"
      },
      "source": [
        "<a href=\"https://colab.research.google.com/github/diegords-br/simple_survival_analysis/blob/master/main.ipynb\" target=\"_parent\"><img src=\"https://colab.research.google.com/assets/colab-badge.svg\" alt=\"Open In Colab\"/></a>"
      ]
    },
    {
      "cell_type": "markdown",
      "metadata": {
        "id": "1gcoPRo-fYb1"
      },
      "source": [
        "# Survival Analysis\n",
        "\n",
        "In this notebook, Breast Cancer (METABRIC) dataset is used for the analysis. It consists of clinical profiles of 2,509 breast cancer patients, time period between diagnosis and death, and time period between diagnosis and relapse.\n",
        "\n",
        "This project have general idea obtain the Kaplan-Meier curves for each tumor stages and compare the results with common sense:\n",
        "\n",
        "**People with tumor stage more advanced have lower time to survival than people that tumor stage is lower.**"
      ]
    },
    {
      "cell_type": "code",
      "source": [
        "from google.colab import drive\n",
        "drive.mount('/content/drive')"
      ],
      "metadata": {
        "colab": {
          "base_uri": "https://localhost:8080/"
        },
        "id": "wzdrG8Dpfe9d",
        "outputId": "b43f2956-b971-4082-a7a0-1ac84fd127ed"
      },
      "execution_count": 14,
      "outputs": [
        {
          "output_type": "stream",
          "name": "stdout",
          "text": [
            "Drive already mounted at /content/drive; to attempt to forcibly remount, call drive.mount(\"/content/drive\", force_remount=True).\n"
          ]
        }
      ]
    },
    {
      "cell_type": "code",
      "execution_count": null,
      "metadata": {
        "id": "tX5fpBVefYb6"
      },
      "outputs": [],
      "source": [
        "import pandas as pd\n",
        "import warnings\n",
        "warnings.filterwarnings('ignore')\n",
        "!pip install lifelines"
      ]
    },
    {
      "cell_type": "code",
      "execution_count": 16,
      "metadata": {
        "id": "Ir37w2oHfYb8"
      },
      "outputs": [],
      "source": [
        "data = pd.read_csv('/content/drive/MyDrive/Colab Notebooks/final_project_IBM/data.csv')\n",
        "\n",
        "df = data.copy()"
      ]
    },
    {
      "cell_type": "code",
      "execution_count": 17,
      "metadata": {
        "id": "Hxkhj1kffYb9"
      },
      "outputs": [],
      "source": [
        "df.rename({'Age at Diagnosis': 'init_age', 'Overall Survival (Months)': 'time',\n",
        "          'Overall Survival Status': 'default', 'Tumor Size': 'tumor_size',\n",
        "          'Tumor Stage': 'tumor_stage'}, axis=1, inplace=True)"
      ]
    },
    {
      "cell_type": "code",
      "execution_count": 18,
      "metadata": {
        "id": "JpQXv2iHfYb9"
      },
      "outputs": [],
      "source": [
        "columns = ['init_age', 'time', 'tumor_size', 'tumor_stage', 'default']\n",
        "\n",
        "df = df[columns]"
      ]
    },
    {
      "cell_type": "code",
      "execution_count": 19,
      "metadata": {
        "colab": {
          "base_uri": "https://localhost:8080/",
          "height": 206
        },
        "id": "rHvPICeqfYb-",
        "outputId": "5cf35d58-e338-4bfe-f9d0-4789921b2270"
      },
      "outputs": [
        {
          "output_type": "execute_result",
          "data": {
            "text/plain": [
              "   init_age        time  tumor_size  tumor_stage   default\n",
              "0     75.65  140.500000        22.0          2.0    Living\n",
              "1     43.19   84.633333        10.0          1.0    Living\n",
              "2     48.87  163.700000        15.0          2.0  Deceased\n",
              "3     47.68  164.933333        25.0          2.0    Living\n",
              "4     76.97   41.366667        40.0          2.0  Deceased"
            ],
            "text/html": [
              "\n",
              "  <div id=\"df-439da858-3937-4867-b08f-69204b3af345\">\n",
              "    <div class=\"colab-df-container\">\n",
              "      <div>\n",
              "<style scoped>\n",
              "    .dataframe tbody tr th:only-of-type {\n",
              "        vertical-align: middle;\n",
              "    }\n",
              "\n",
              "    .dataframe tbody tr th {\n",
              "        vertical-align: top;\n",
              "    }\n",
              "\n",
              "    .dataframe thead th {\n",
              "        text-align: right;\n",
              "    }\n",
              "</style>\n",
              "<table border=\"1\" class=\"dataframe\">\n",
              "  <thead>\n",
              "    <tr style=\"text-align: right;\">\n",
              "      <th></th>\n",
              "      <th>init_age</th>\n",
              "      <th>time</th>\n",
              "      <th>tumor_size</th>\n",
              "      <th>tumor_stage</th>\n",
              "      <th>default</th>\n",
              "    </tr>\n",
              "  </thead>\n",
              "  <tbody>\n",
              "    <tr>\n",
              "      <th>0</th>\n",
              "      <td>75.65</td>\n",
              "      <td>140.500000</td>\n",
              "      <td>22.0</td>\n",
              "      <td>2.0</td>\n",
              "      <td>Living</td>\n",
              "    </tr>\n",
              "    <tr>\n",
              "      <th>1</th>\n",
              "      <td>43.19</td>\n",
              "      <td>84.633333</td>\n",
              "      <td>10.0</td>\n",
              "      <td>1.0</td>\n",
              "      <td>Living</td>\n",
              "    </tr>\n",
              "    <tr>\n",
              "      <th>2</th>\n",
              "      <td>48.87</td>\n",
              "      <td>163.700000</td>\n",
              "      <td>15.0</td>\n",
              "      <td>2.0</td>\n",
              "      <td>Deceased</td>\n",
              "    </tr>\n",
              "    <tr>\n",
              "      <th>3</th>\n",
              "      <td>47.68</td>\n",
              "      <td>164.933333</td>\n",
              "      <td>25.0</td>\n",
              "      <td>2.0</td>\n",
              "      <td>Living</td>\n",
              "    </tr>\n",
              "    <tr>\n",
              "      <th>4</th>\n",
              "      <td>76.97</td>\n",
              "      <td>41.366667</td>\n",
              "      <td>40.0</td>\n",
              "      <td>2.0</td>\n",
              "      <td>Deceased</td>\n",
              "    </tr>\n",
              "  </tbody>\n",
              "</table>\n",
              "</div>\n",
              "      <button class=\"colab-df-convert\" onclick=\"convertToInteractive('df-439da858-3937-4867-b08f-69204b3af345')\"\n",
              "              title=\"Convert this dataframe to an interactive table.\"\n",
              "              style=\"display:none;\">\n",
              "        \n",
              "  <svg xmlns=\"http://www.w3.org/2000/svg\" height=\"24px\"viewBox=\"0 0 24 24\"\n",
              "       width=\"24px\">\n",
              "    <path d=\"M0 0h24v24H0V0z\" fill=\"none\"/>\n",
              "    <path d=\"M18.56 5.44l.94 2.06.94-2.06 2.06-.94-2.06-.94-.94-2.06-.94 2.06-2.06.94zm-11 1L8.5 8.5l.94-2.06 2.06-.94-2.06-.94L8.5 2.5l-.94 2.06-2.06.94zm10 10l.94 2.06.94-2.06 2.06-.94-2.06-.94-.94-2.06-.94 2.06-2.06.94z\"/><path d=\"M17.41 7.96l-1.37-1.37c-.4-.4-.92-.59-1.43-.59-.52 0-1.04.2-1.43.59L10.3 9.45l-7.72 7.72c-.78.78-.78 2.05 0 2.83L4 21.41c.39.39.9.59 1.41.59.51 0 1.02-.2 1.41-.59l7.78-7.78 2.81-2.81c.8-.78.8-2.07 0-2.86zM5.41 20L4 18.59l7.72-7.72 1.47 1.35L5.41 20z\"/>\n",
              "  </svg>\n",
              "      </button>\n",
              "      \n",
              "  <style>\n",
              "    .colab-df-container {\n",
              "      display:flex;\n",
              "      flex-wrap:wrap;\n",
              "      gap: 12px;\n",
              "    }\n",
              "\n",
              "    .colab-df-convert {\n",
              "      background-color: #E8F0FE;\n",
              "      border: none;\n",
              "      border-radius: 50%;\n",
              "      cursor: pointer;\n",
              "      display: none;\n",
              "      fill: #1967D2;\n",
              "      height: 32px;\n",
              "      padding: 0 0 0 0;\n",
              "      width: 32px;\n",
              "    }\n",
              "\n",
              "    .colab-df-convert:hover {\n",
              "      background-color: #E2EBFA;\n",
              "      box-shadow: 0px 1px 2px rgba(60, 64, 67, 0.3), 0px 1px 3px 1px rgba(60, 64, 67, 0.15);\n",
              "      fill: #174EA6;\n",
              "    }\n",
              "\n",
              "    [theme=dark] .colab-df-convert {\n",
              "      background-color: #3B4455;\n",
              "      fill: #D2E3FC;\n",
              "    }\n",
              "\n",
              "    [theme=dark] .colab-df-convert:hover {\n",
              "      background-color: #434B5C;\n",
              "      box-shadow: 0px 1px 3px 1px rgba(0, 0, 0, 0.15);\n",
              "      filter: drop-shadow(0px 1px 2px rgba(0, 0, 0, 0.3));\n",
              "      fill: #FFFFFF;\n",
              "    }\n",
              "  </style>\n",
              "\n",
              "      <script>\n",
              "        const buttonEl =\n",
              "          document.querySelector('#df-439da858-3937-4867-b08f-69204b3af345 button.colab-df-convert');\n",
              "        buttonEl.style.display =\n",
              "          google.colab.kernel.accessAllowed ? 'block' : 'none';\n",
              "\n",
              "        async function convertToInteractive(key) {\n",
              "          const element = document.querySelector('#df-439da858-3937-4867-b08f-69204b3af345');\n",
              "          const dataTable =\n",
              "            await google.colab.kernel.invokeFunction('convertToInteractive',\n",
              "                                                     [key], {});\n",
              "          if (!dataTable) return;\n",
              "\n",
              "          const docLinkHtml = 'Like what you see? Visit the ' +\n",
              "            '<a target=\"_blank\" href=https://colab.research.google.com/notebooks/data_table.ipynb>data table notebook</a>'\n",
              "            + ' to learn more about interactive tables.';\n",
              "          element.innerHTML = '';\n",
              "          dataTable['output_type'] = 'display_data';\n",
              "          await google.colab.output.renderOutput(dataTable, element);\n",
              "          const docLink = document.createElement('div');\n",
              "          docLink.innerHTML = docLinkHtml;\n",
              "          element.appendChild(docLink);\n",
              "        }\n",
              "      </script>\n",
              "    </div>\n",
              "  </div>\n",
              "  "
            ]
          },
          "metadata": {},
          "execution_count": 19
        }
      ],
      "source": [
        "df.head()"
      ]
    },
    {
      "cell_type": "markdown",
      "source": [
        "Variables for modeling:\n",
        "\n",
        "* init_age: Age initial when cancer was found;\n",
        "* time: The Time of observation of people (in months);\n",
        "* tumor_size: Size of tumor;\n",
        "* tumor_stage: Stage of tumor (0, 1, 2, 3, 4);\n",
        "* default: If patient was died (1) or not died (0) in observation time."
      ],
      "metadata": {
        "id": "6rw-cSRaUjiW"
      }
    },
    {
      "cell_type": "code",
      "execution_count": 20,
      "metadata": {
        "id": "JAMHjY0lfYb_"
      },
      "outputs": [],
      "source": [
        "# converting default to numeric values\n",
        "import numpy as np\n",
        "\n",
        "df['default'] = np.where(df.default == 'Living', 1, 0)"
      ]
    },
    {
      "cell_type": "code",
      "source": [
        "# info of columns\n",
        "df.info()"
      ],
      "metadata": {
        "colab": {
          "base_uri": "https://localhost:8080/"
        },
        "id": "i7D_c3X18jst",
        "outputId": "4122d011-6c54-4b96-8638-552394420a21"
      },
      "execution_count": 21,
      "outputs": [
        {
          "output_type": "stream",
          "name": "stdout",
          "text": [
            "<class 'pandas.core.frame.DataFrame'>\n",
            "RangeIndex: 2509 entries, 0 to 2508\n",
            "Data columns (total 5 columns):\n",
            " #   Column       Non-Null Count  Dtype  \n",
            "---  ------       --------------  -----  \n",
            " 0   init_age     2498 non-null   float64\n",
            " 1   time         1981 non-null   float64\n",
            " 2   tumor_size   2360 non-null   float64\n",
            " 3   tumor_stage  1788 non-null   float64\n",
            " 4   default      2509 non-null   int64  \n",
            "dtypes: float64(4), int64(1)\n",
            "memory usage: 98.1 KB\n"
          ]
        }
      ]
    },
    {
      "cell_type": "code",
      "source": [
        "# drop NaN values\n",
        "df.dropna(inplace=True)"
      ],
      "metadata": {
        "id": "dLYGB6LH8zKd"
      },
      "execution_count": 22,
      "outputs": []
    },
    {
      "cell_type": "code",
      "source": [
        "# change type\n",
        "df = df.astype(int)"
      ],
      "metadata": {
        "id": "x0BIIGgR9dG6"
      },
      "execution_count": 23,
      "outputs": []
    },
    {
      "cell_type": "code",
      "source": [
        "# order by time\n",
        "df.sort_values('time', inplace=True)"
      ],
      "metadata": {
        "id": "HjB5GBsJ9tvN"
      },
      "execution_count": 24,
      "outputs": []
    },
    {
      "cell_type": "markdown",
      "source": [
        "Let's filter in some dataframes by tumor stage for construct the survival analysis for each stage of tumor. But, because that the quantity of data for stage 0 and 4, this stages not be considered."
      ],
      "metadata": {
        "id": "SOzQqslp_5DJ"
      }
    },
    {
      "cell_type": "code",
      "source": [
        "tumor_stages = [1, 2, 3]\n",
        "\n",
        "dfs = {}\n",
        "\n",
        "for stage in tumor_stages:\n",
        "    dfs.update({stage: df[df['tumor_stage'] == stage]})"
      ],
      "metadata": {
        "id": "VptvslXc_dvp"
      },
      "execution_count": 25,
      "outputs": []
    },
    {
      "cell_type": "markdown",
      "source": [
        "Creation for each tumor stage the curve of probabilities os survival."
      ],
      "metadata": {
        "id": "VYfPDoNAA9Ft"
      }
    },
    {
      "cell_type": "code",
      "source": [
        "from lifelines import KaplanMeierFitter\n",
        "import matplotlib.pyplot as plt\n",
        "\n",
        "for dataframe in dfs.keys():\n",
        "    df_stage = dfs[dataframe]\n",
        "\n",
        "    kmf = KaplanMeierFitter()\n",
        "    kmf.fit(durations=df_stage['time'], event_observed=df_stage['default'])\n",
        "\n",
        "    kmf.plot_survival_function(label=f'Tumor stage {dataframe}', title='Kaplan-Meier survival curve',\n",
        "                               xlabel='Time', ylabel='Estimated Probability of Survival')\n",
        "    plt.grid(alpha=0.4)\n",
        "\n",
        "plt.show()"
      ],
      "metadata": {
        "colab": {
          "base_uri": "https://localhost:8080/",
          "height": 295
        },
        "id": "mSGWdIBr_2kv",
        "outputId": "6e42bff8-855f-46e5-f62d-d5bca95802a0"
      },
      "execution_count": 26,
      "outputs": [
        {
          "output_type": "display_data",
          "data": {
            "text/plain": [
              "<Figure size 432x288 with 1 Axes>"
            ],
            "image/png": "[encoded data removed]"
          },
          "metadata": {
            "needs_background": "light"
          }
        }
      ]
    },
    {
      "cell_type": "markdown",
      "source": [
        "This plot show that in more advanced tumor stages the probability of survived decrease (how expected).\n",
        "\n",
        "In the stage 3 the probabiliy of suvived decrease to zero before other stages (how exptected).\n",
        "\n",
        "At aproximately 100 months the behaviour of thre stages is the same, but after this time, stage 3 appear more agressive and the probability of suvival decrease more rapidly than others."
      ],
      "metadata": {
        "id": "bz1PFQdAFnN5"
      }
    },
    {
      "cell_type": "markdown",
      "source": [
        "The next step in this project is use others variables for construct other Kaplan-Meier survival curves and get more informations about the survival probabilities of patients with cancer."
      ],
      "metadata": {
        "id": "zBD-0cenURoi"
      }
    },
    {
      "cell_type": "code",
      "source": [
        ""
      ],
      "metadata": {
        "id": "rxYqSp6-JZsv"
      },
      "execution_count": 26,
      "outputs": []
    }
  ],
  "metadata": {
    "kernelspec": {
      "display_name": "Python 3 (ipykernel)",
      "language": "python",
      "name": "python3"
    },
    "language_info": {
      "codemirror_mode": {
        "name": "ipython",
        "version": 3
      },
      "file_extension": ".py",
      "mimetype": "text/x-python",
      "name": "python",
      "nbconvert_exporter": "python",
      "pygments_lexer": "ipython3",
      "version": "3.9.7"
    },
    "vscode": {
      "interpreter": {
        "hash": "98aeee7233d56b926c92b76ee0fb46d9c7f691a9e8fa77a73b9ecf6291f5a0eb"
      }
    },
    "colab": {
      "name": "final_project.ipynb",
      "provenance": [],
      "collapsed_sections": [],
      "include_colab_link": true
    }
  },
  "nbformat": 4,
  "nbformat_minor": 0
}