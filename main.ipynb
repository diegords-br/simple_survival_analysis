{
  "cells": [
    {
      "cell_type": "markdown",
      "metadata": {
        "id": "1gcoPRo-fYb1"
      },
      "source": [
        "# Survival Analysis\n",
        "\n",
        "In this notebook, Breast Cancer (METABRIC) dataset is used for the analysis. It consists of clinical profiles of 2,509 breast cancer patients, time period between diagnosis and death, and time period between diagnosis and relapse.\n",
        "\n",
        "# Main objective\n",
        "\n",
        "This project have general idea obtain the Kaplan-Meier curves for each tumor stages and compare the results with common sense:\n",
        "\n",
        "**People with tumor stage more advanced have lower time to survival than people that tumor stage is lower.**"
      ]
    },
    {
      "cell_type": "code",
      "source": [
        "from google.colab import drive\n",
        "drive.mount('/content/drive')"
      ],
      "metadata": {
        "colab": {
          "base_uri": "https://localhost:8080/"
        },
        "id": "wzdrG8Dpfe9d",
        "outputId": "5cbf4762-14f6-4d10-c3b4-258c1aa68515"
      },
      "execution_count": 55,
      "outputs": [
        {
          "output_type": "stream",
          "name": "stdout",
          "text": [
            "Drive already mounted at /content/drive; to attempt to forcibly remount, call drive.mount(\"/content/drive\", force_remount=True).\n"
          ]
        }
      ]
    },
    {
      "cell_type": "code",
      "execution_count": 56,
      "metadata": {
        "id": "tX5fpBVefYb6",
        "colab": {
          "base_uri": "https://localhost:8080/"
        },
        "outputId": "7ce6c2dc-0fe4-433a-8a31-2a8d64f81d2a"
      },
      "outputs": [
        {
          "output_type": "stream",
          "name": "stdout",
          "text": [
            "Looking in indexes: https://pypi.org/simple, https://us-python.pkg.dev/colab-wheels/public/simple/\n",
            "Requirement already satisfied: lifelines in /usr/local/lib/python3.7/dist-packages (0.27.1)\n",
            "Requirement already satisfied: scipy>=1.2.0 in /usr/local/lib/python3.7/dist-packages (from lifelines) (1.7.3)\n",
            "Requirement already satisfied: autograd>=1.3 in /usr/local/lib/python3.7/dist-packages (from lifelines) (1.4)\n",
            "Requirement already satisfied: matplotlib>=3.0 in /usr/local/lib/python3.7/dist-packages (from lifelines) (3.2.2)\n",
            "Requirement already satisfied: pandas>=1.0.0 in /usr/local/lib/python3.7/dist-packages (from lifelines) (1.3.5)\n",
            "Requirement already satisfied: formulaic>=0.2.2 in /usr/local/lib/python3.7/dist-packages (from lifelines) (0.3.4)\n",
            "Requirement already satisfied: numpy>=1.14.0 in /usr/local/lib/python3.7/dist-packages (from lifelines) (1.21.6)\n",
            "Requirement already satisfied: autograd-gamma>=0.3 in /usr/local/lib/python3.7/dist-packages (from lifelines) (0.5.0)\n",
            "Requirement already satisfied: future>=0.15.2 in /usr/local/lib/python3.7/dist-packages (from autograd>=1.3->lifelines) (0.16.0)\n",
            "Requirement already satisfied: interface-meta<2.0.0,>=1.2.0 in /usr/local/lib/python3.7/dist-packages (from formulaic>=0.2.2->lifelines) (1.3.0)\n",
            "Requirement already satisfied: astor>=0.8 in /usr/local/lib/python3.7/dist-packages (from formulaic>=0.2.2->lifelines) (0.8.1)\n",
            "Requirement already satisfied: wrapt>=1.0 in /usr/local/lib/python3.7/dist-packages (from formulaic>=0.2.2->lifelines) (1.14.1)\n",
            "Requirement already satisfied: python-dateutil>=2.1 in /usr/local/lib/python3.7/dist-packages (from matplotlib>=3.0->lifelines) (2.8.2)\n",
            "Requirement already satisfied: cycler>=0.10 in /usr/local/lib/python3.7/dist-packages (from matplotlib>=3.0->lifelines) (0.11.0)\n",
            "Requirement already satisfied: pyparsing!=2.0.4,!=2.1.2,!=2.1.6,>=2.0.1 in /usr/local/lib/python3.7/dist-packages (from matplotlib>=3.0->lifelines) (3.0.9)\n",
            "Requirement already satisfied: kiwisolver>=1.0.1 in /usr/local/lib/python3.7/dist-packages (from matplotlib>=3.0->lifelines) (1.4.3)\n",
            "Requirement already satisfied: typing-extensions in /usr/local/lib/python3.7/dist-packages (from kiwisolver>=1.0.1->matplotlib>=3.0->lifelines) (4.1.1)\n",
            "Requirement already satisfied: pytz>=2017.3 in /usr/local/lib/python3.7/dist-packages (from pandas>=1.0.0->lifelines) (2022.1)\n",
            "Requirement already satisfied: six>=1.5 in /usr/local/lib/python3.7/dist-packages (from python-dateutil>=2.1->matplotlib>=3.0->lifelines) (1.15.0)\n"
          ]
        }
      ],
      "source": [
        "import pandas as pd\n",
        "import warnings\n",
        "warnings.filterwarnings('ignore')\n",
        "!pip install lifelines"
      ]
    },
    {
      "cell_type": "code",
      "execution_count": 57,
      "metadata": {
        "id": "Ir37w2oHfYb8"
      },
      "outputs": [],
      "source": [
        "data = pd.read_csv('/content/drive/MyDrive/Colab Notebooks/final_project_IBM/data.csv')\n",
        "\n",
        "df = data.copy()"
      ]
    },
    {
      "cell_type": "code",
      "execution_count": 58,
      "metadata": {
        "id": "Hxkhj1kffYb9"
      },
      "outputs": [],
      "source": [
        "df.rename({'Age at Diagnosis': 'init_age', 'Overall Survival (Months)': 'time',\n",
        "          'Overall Survival Status': 'target', 'Tumor Size': 'tumor_size',\n",
        "          'Tumor Stage': 'tumor_stage'}, axis=1, inplace=True)"
      ]
    },
    {
      "cell_type": "code",
      "execution_count": 59,
      "metadata": {
        "id": "JpQXv2iHfYb9"
      },
      "outputs": [],
      "source": [
        "columns = ['init_age', 'time', 'tumor_size', 'tumor_stage', 'target']\n",
        "\n",
        "df = df[columns]"
      ]
    },
    {
      "cell_type": "code",
      "execution_count": 60,
      "metadata": {
        "colab": {
          "base_uri": "https://localhost:8080/",
          "height": 206
        },
        "id": "rHvPICeqfYb-",
        "outputId": "e54277c5-5e7d-4375-959d-4f60fd592bd2"
      },
      "outputs": [
        {
          "output_type": "execute_result",
          "data": {
            "text/plain": [
              "   init_age        time  tumor_size  tumor_stage    target\n",
              "0     75.65  140.500000        22.0          2.0    Living\n",
              "1     43.19   84.633333        10.0          1.0    Living\n",
              "2     48.87  163.700000        15.0          2.0  Deceased\n",
              "3     47.68  164.933333        25.0          2.0    Living\n",
              "4     76.97   41.366667        40.0          2.0  Deceased"
            ],
            "text/html": [
              "\n",
              "  <div id=\"df-4641690e-9964-4dc9-97b6-e98ed1377574\">\n",
              "    <div class=\"colab-df-container\">\n",
              "      <div>\n",
              "<style scoped>\n",
              "    .dataframe tbody tr th:only-of-type {\n",
              "        vertical-align: middle;\n",
              "    }\n",
              "\n",
              "    .dataframe tbody tr th {\n",
              "        vertical-align: top;\n",
              "    }\n",
              "\n",
              "    .dataframe thead th {\n",
              "        text-align: right;\n",
              "    }\n",
              "</style>\n",
              "<table border=\"1\" class=\"dataframe\">\n",
              "  <thead>\n",
              "    <tr style=\"text-align: right;\">\n",
              "      <th></th>\n",
              "      <th>init_age</th>\n",
              "      <th>time</th>\n",
              "      <th>tumor_size</th>\n",
              "      <th>tumor_stage</th>\n",
              "      <th>target</th>\n",
              "    </tr>\n",
              "  </thead>\n",
              "  <tbody>\n",
              "    <tr>\n",
              "      <th>0</th>\n",
              "      <td>75.65</td>\n",
              "      <td>140.500000</td>\n",
              "      <td>22.0</td>\n",
              "      <td>2.0</td>\n",
              "      <td>Living</td>\n",
              "    </tr>\n",
              "    <tr>\n",
              "      <th>1</th>\n",
              "      <td>43.19</td>\n",
              "      <td>84.633333</td>\n",
              "      <td>10.0</td>\n",
              "      <td>1.0</td>\n",
              "      <td>Living</td>\n",
              "    </tr>\n",
              "    <tr>\n",
              "      <th>2</th>\n",
              "      <td>48.87</td>\n",
              "      <td>163.700000</td>\n",
              "      <td>15.0</td>\n",
              "      <td>2.0</td>\n",
              "      <td>Deceased</td>\n",
              "    </tr>\n",
              "    <tr>\n",
              "      <th>3</th>\n",
              "      <td>47.68</td>\n",
              "      <td>164.933333</td>\n",
              "      <td>25.0</td>\n",
              "      <td>2.0</td>\n",
              "      <td>Living</td>\n",
              "    </tr>\n",
              "    <tr>\n",
              "      <th>4</th>\n",
              "      <td>76.97</td>\n",
              "      <td>41.366667</td>\n",
              "      <td>40.0</td>\n",
              "      <td>2.0</td>\n",
              "      <td>Deceased</td>\n",
              "    </tr>\n",
              "  </tbody>\n",
              "</table>\n",
              "</div>\n",
              "      <button class=\"colab-df-convert\" onclick=\"convertToInteractive('df-4641690e-9964-4dc9-97b6-e98ed1377574')\"\n",
              "              title=\"Convert this dataframe to an interactive table.\"\n",
              "              style=\"display:none;\">\n",
              "        \n",
              "  <svg xmlns=\"http://www.w3.org/2000/svg\" height=\"24px\"viewBox=\"0 0 24 24\"\n",
              "       width=\"24px\">\n",
              "    <path d=\"M0 0h24v24H0V0z\" fill=\"none\"/>\n",
              "    <path d=\"M18.56 5.44l.94 2.06.94-2.06 2.06-.94-2.06-.94-.94-2.06-.94 2.06-2.06.94zm-11 1L8.5 8.5l.94-2.06 2.06-.94-2.06-.94L8.5 2.5l-.94 2.06-2.06.94zm10 10l.94 2.06.94-2.06 2.06-.94-2.06-.94-.94-2.06-.94 2.06-2.06.94z\"/><path d=\"M17.41 7.96l-1.37-1.37c-.4-.4-.92-.59-1.43-.59-.52 0-1.04.2-1.43.59L10.3 9.45l-7.72 7.72c-.78.78-.78 2.05 0 2.83L4 21.41c.39.39.9.59 1.41.59.51 0 1.02-.2 1.41-.59l7.78-7.78 2.81-2.81c.8-.78.8-2.07 0-2.86zM5.41 20L4 18.59l7.72-7.72 1.47 1.35L5.41 20z\"/>\n",
              "  </svg>\n",
              "      </button>\n",
              "      \n",
              "  <style>\n",
              "    .colab-df-container {\n",
              "      display:flex;\n",
              "      flex-wrap:wrap;\n",
              "      gap: 12px;\n",
              "    }\n",
              "\n",
              "    .colab-df-convert {\n",
              "      background-color: #E8F0FE;\n",
              "      border: none;\n",
              "      border-radius: 50%;\n",
              "      cursor: pointer;\n",
              "      display: none;\n",
              "      fill: #1967D2;\n",
              "      height: 32px;\n",
              "      padding: 0 0 0 0;\n",
              "      width: 32px;\n",
              "    }\n",
              "\n",
              "    .colab-df-convert:hover {\n",
              "      background-color: #E2EBFA;\n",
              "      box-shadow: 0px 1px 2px rgba(60, 64, 67, 0.3), 0px 1px 3px 1px rgba(60, 64, 67, 0.15);\n",
              "      fill: #174EA6;\n",
              "    }\n",
              "\n",
              "    [theme=dark] .colab-df-convert {\n",
              "      background-color: #3B4455;\n",
              "      fill: #D2E3FC;\n",
              "    }\n",
              "\n",
              "    [theme=dark] .colab-df-convert:hover {\n",
              "      background-color: #434B5C;\n",
              "      box-shadow: 0px 1px 3px 1px rgba(0, 0, 0, 0.15);\n",
              "      filter: drop-shadow(0px 1px 2px rgba(0, 0, 0, 0.3));\n",
              "      fill: #FFFFFF;\n",
              "    }\n",
              "  </style>\n",
              "\n",
              "      <script>\n",
              "        const buttonEl =\n",
              "          document.querySelector('#df-4641690e-9964-4dc9-97b6-e98ed1377574 button.colab-df-convert');\n",
              "        buttonEl.style.display =\n",
              "          google.colab.kernel.accessAllowed ? 'block' : 'none';\n",
              "\n",
              "        async function convertToInteractive(key) {\n",
              "          const element = document.querySelector('#df-4641690e-9964-4dc9-97b6-e98ed1377574');\n",
              "          const dataTable =\n",
              "            await google.colab.kernel.invokeFunction('convertToInteractive',\n",
              "                                                     [key], {});\n",
              "          if (!dataTable) return;\n",
              "\n",
              "          const docLinkHtml = 'Like what you see? Visit the ' +\n",
              "            '<a target=\"_blank\" href=https://colab.research.google.com/notebooks/data_table.ipynb>data table notebook</a>'\n",
              "            + ' to learn more about interactive tables.';\n",
              "          element.innerHTML = '';\n",
              "          dataTable['output_type'] = 'display_data';\n",
              "          await google.colab.output.renderOutput(dataTable, element);\n",
              "          const docLink = document.createElement('div');\n",
              "          docLink.innerHTML = docLinkHtml;\n",
              "          element.appendChild(docLink);\n",
              "        }\n",
              "      </script>\n",
              "    </div>\n",
              "  </div>\n",
              "  "
            ]
          },
          "metadata": {},
          "execution_count": 60
        }
      ],
      "source": [
        "df.head()"
      ]
    },
    {
      "cell_type": "markdown",
      "source": [
        "# Variables for modeling:\n",
        "\n",
        "* init_age: Age initial when cancer was found;\n",
        "* time: The Time of observation of people (in months);\n",
        "* tumor_size: Size of tumor;\n",
        "* tumor_stage: Stage of tumor (0, 1, 2, 3, 4);\n",
        "* target: If patient was died (1) or not died (0) in observation time."
      ],
      "metadata": {
        "id": "6rw-cSRaUjiW"
      }
    },
    {
      "cell_type": "code",
      "execution_count": 61,
      "metadata": {
        "id": "JAMHjY0lfYb_"
      },
      "outputs": [],
      "source": [
        "# converting target to numeric values\n",
        "import numpy as np\n",
        "\n",
        "df['target'] = np.where(df.target == 'Living', 1, 0)"
      ]
    },
    {
      "cell_type": "code",
      "source": [
        "# info of columns\n",
        "df.info()"
      ],
      "metadata": {
        "colab": {
          "base_uri": "https://localhost:8080/"
        },
        "id": "i7D_c3X18jst",
        "outputId": "512c2bda-64ac-4a34-c719-eb285333960b"
      },
      "execution_count": 62,
      "outputs": [
        {
          "output_type": "stream",
          "name": "stdout",
          "text": [
            "<class 'pandas.core.frame.DataFrame'>\n",
            "RangeIndex: 2509 entries, 0 to 2508\n",
            "Data columns (total 5 columns):\n",
            " #   Column       Non-Null Count  Dtype  \n",
            "---  ------       --------------  -----  \n",
            " 0   init_age     2498 non-null   float64\n",
            " 1   time         1981 non-null   float64\n",
            " 2   tumor_size   2360 non-null   float64\n",
            " 3   tumor_stage  1788 non-null   float64\n",
            " 4   target       2509 non-null   int64  \n",
            "dtypes: float64(4), int64(1)\n",
            "memory usage: 98.1 KB\n"
          ]
        }
      ]
    },
    {
      "cell_type": "code",
      "source": [
        "# drop NaN values\n",
        "df.dropna(inplace=True)"
      ],
      "metadata": {
        "id": "dLYGB6LH8zKd"
      },
      "execution_count": 63,
      "outputs": []
    },
    {
      "cell_type": "code",
      "source": [
        "# change type\n",
        "df = df.astype(int)"
      ],
      "metadata": {
        "id": "x0BIIGgR9dG6"
      },
      "execution_count": 64,
      "outputs": []
    },
    {
      "cell_type": "code",
      "source": [
        "# order by time\n",
        "df.sort_values('time', inplace=True)"
      ],
      "metadata": {
        "id": "HjB5GBsJ9tvN"
      },
      "execution_count": 65,
      "outputs": []
    },
    {
      "cell_type": "markdown",
      "source": [
        "Let's filter in some dataframes by tumor stage for construct the survival analysis for each stage of tumor. But, because that the quantity of data for stage 0 and 4, this stages not be considered."
      ],
      "metadata": {
        "id": "SOzQqslp_5DJ"
      }
    },
    {
      "cell_type": "code",
      "source": [
        "tumor_stages = [1, 2, 3]\n",
        "\n",
        "dfs = {}\n",
        "\n",
        "for stage in tumor_stages:\n",
        "    dfs.update({stage: df[df['tumor_stage'] == stage]})"
      ],
      "metadata": {
        "id": "VptvslXc_dvp"
      },
      "execution_count": 66,
      "outputs": []
    },
    {
      "cell_type": "markdown",
      "source": [
        "Creation for each tumor stage the curve of probabilities os survival."
      ],
      "metadata": {
        "id": "VYfPDoNAA9Ft"
      }
    },
    {
      "cell_type": "code",
      "source": [
        "from lifelines import KaplanMeierFitter\n",
        "import matplotlib.pyplot as plt\n",
        "\n",
        "for dataframe in dfs.keys():\n",
        "    df_stage = dfs[dataframe]\n",
        "\n",
        "    kmf = KaplanMeierFitter()\n",
        "    kmf.fit(durations=df_stage['time'], event_observed=df_stage['target'])\n",
        "\n",
        "    kmf.plot_survival_function(label=f'Tumor stage {dataframe}', title='Kaplan-Meier survival curve',\n",
        "                               xlabel='Time', ylabel='Estimated Probability of Survival')\n",
        "    plt.grid(alpha=0.4)\n",
        "\n",
        "plt.show()"
      ],
      "metadata": {
        "colab": {
          "base_uri": "https://localhost:8080/",
          "height": 295
        },
        "id": "mSGWdIBr_2kv",
        "outputId": "676d4733-5120-4922-8bec-2d20996346e6"
      },
      "execution_count": 67,
      "outputs": [
        {
          "output_type": "display_data",
          "data": {
            "text/plain": [
              "<Figure size 432x288 with 1 Axes>"
            ],
            "image/png": "[encoded data removed]"
          },
          "metadata": {
            "needs_background": "light"
          }
        }
      ]
    },
    {
      "cell_type": "markdown",
      "source": [
        "This plot show that in more advanced tumor stages the probability of survived decrease (how expected).\n",
        "\n",
        "In the stage 3 the probabiliy of suvived decrease to zero before other stages (how exptected).\n",
        "\n",
        "At aproximately 100 months the behaviour of thre stages is the same, but after this time, stage 3 appear more agressive and the probability of suvival decrease more rapidly than others."
      ],
      "metadata": {
        "id": "bz1PFQdAFnN5"
      }
    },
    {
      "cell_type": "markdown",
      "source": [
        "# Other analysis"
      ],
      "metadata": {
        "id": "Tzcuwczd7wli"
      }
    },
    {
      "cell_type": "code",
      "source": [
        "import seaborn as sns\n",
        "\n",
        "sns.heatmap(df.corr(), annot=True)\n",
        "plt.title('Pearson correlation of features with target')\n",
        "plt.show()"
      ],
      "metadata": {
        "id": "rxYqSp6-JZsv",
        "colab": {
          "base_uri": "https://localhost:8080/",
          "height": 334
        },
        "outputId": "b934839b-e285-47a4-b20c-a20901298ba1"
      },
      "execution_count": 68,
      "outputs": [
        {
          "output_type": "display_data",
          "data": {
            "text/plain": [
              "<Figure size 432x288 with 2 Axes>"
            ],
            "image/png": "[encoded data removed]"
          },
          "metadata": {
            "needs_background": "light"
          }
        }
      ]
    },
    {
      "cell_type": "markdown",
      "source": [
        "* Init age have -0.3 correlation with target, that is, lower values of ages (young people) increase the value of target.\n",
        "\n",
        "* Time have 0.39 correlation with target, that is, high value of time increase the value of target (it's because when more advanced stage of tumor, more agressive it's).\n",
        "\n",
        "* Tumor stage have high correlation with tumor size. Thus, for modeling, we use only tumor stage."
      ],
      "metadata": {
        "id": "bjLl_wEZ8KlY"
      }
    },
    {
      "cell_type": "code",
      "source": [
        "# split data\n",
        "from sklearn.model_selection import train_test_split\n",
        "\n",
        "x = df[['time', 'init_age', 'tumor_stage']]\n",
        "y = df['target']\n",
        "\n",
        "x_train, x_test, y_train, y_test = train_test_split(x, y, test_size=0.25, random_state=42)"
      ],
      "metadata": {
        "id": "VvYGa3oS90Va"
      },
      "execution_count": 69,
      "outputs": []
    },
    {
      "cell_type": "markdown",
      "source": [
        "# Classifier"
      ],
      "metadata": {
        "id": "Tr5mZDTy9glJ"
      }
    },
    {
      "cell_type": "code",
      "source": [
        "from sklearn.linear_model import LogisticRegression\n",
        "from sklearn.tree import DecisionTreeClassifier\n",
        "from sklearn.neighbors import KNeighborsClassifier\n",
        "from sklearn.ensemble import RandomForestClassifier\n",
        "from sklearn import metrics\n",
        "\n",
        "models = {\n",
        "    'logreg': LogisticRegression(),\n",
        "    'tree': DecisionTreeClassifier(),\n",
        "    'knn': KNeighborsClassifier(),\n",
        "    'forest': RandomForestClassifier()\n",
        "}\n",
        "\n",
        "results = {}\n",
        "\n",
        "for i in models.keys():\n",
        "\n",
        "    model = models[i]\n",
        "    model.fit(x_train, y_train)\n",
        "\n",
        "    pred_train = model.predict(x_train)\n",
        "    pred_test = model.predict(x_test)\n",
        "\n",
        "    precision_train = round(metrics.precision_score(y_train, pred_train), 2)\n",
        "    precision_test = round(metrics.precision_score(y_test, pred_test), 2)\n",
        "\n",
        "    recall_train = round(metrics.recall_score(y_train, pred_train), 2)\n",
        "    recall_test = round(metrics.recall_score(y_test, pred_test), 2)\n",
        "\n",
        "    results.update({i: {'precision_train': precision_train, \n",
        "                        'precision_test': precision_test, \n",
        "                        'recall_train': recall_train,\n",
        "                        'precall_test': recall_test}})\n",
        "    \n",
        "metrics_result = pd.DataFrame(results).T\n",
        "metrics_result"
      ],
      "metadata": {
        "colab": {
          "base_uri": "https://localhost:8080/",
          "height": 175
        },
        "id": "QZY9bs3A7yD_",
        "outputId": "7086c644-0bbd-446e-a283-c0b15eeadbfe"
      },
      "execution_count": 70,
      "outputs": [
        {
          "output_type": "execute_result",
          "data": {
            "text/plain": [
              "        precision_train  precision_test  recall_train  precall_test\n",
              "logreg             0.66            0.76          0.60          0.58\n",
              "tree               1.00            0.68          0.98          0.56\n",
              "knn                0.76            0.72          0.76          0.59\n",
              "forest             0.99            0.74          0.99          0.64"
            ],
            "text/html": [
              "\n",
              "  <div id=\"df-548f0e0a-a7a1-426d-aa82-d54512671a5f\">\n",
              "    <div class=\"colab-df-container\">\n",
              "      <div>\n",
              "<style scoped>\n",
              "    .dataframe tbody tr th:only-of-type {\n",
              "        vertical-align: middle;\n",
              "    }\n",
              "\n",
              "    .dataframe tbody tr th {\n",
              "        vertical-align: top;\n",
              "    }\n",
              "\n",
              "    .dataframe thead th {\n",
              "        text-align: right;\n",
              "    }\n",
              "</style>\n",
              "<table border=\"1\" class=\"dataframe\">\n",
              "  <thead>\n",
              "    <tr style=\"text-align: right;\">\n",
              "      <th></th>\n",
              "      <th>precision_train</th>\n",
              "      <th>precision_test</th>\n",
              "      <th>recall_train</th>\n",
              "      <th>precall_test</th>\n",
              "    </tr>\n",
              "  </thead>\n",
              "  <tbody>\n",
              "    <tr>\n",
              "      <th>logreg</th>\n",
              "      <td>0.66</td>\n",
              "      <td>0.76</td>\n",
              "      <td>0.60</td>\n",
              "      <td>0.58</td>\n",
              "    </tr>\n",
              "    <tr>\n",
              "      <th>tree</th>\n",
              "      <td>1.00</td>\n",
              "      <td>0.68</td>\n",
              "      <td>0.98</td>\n",
              "      <td>0.56</td>\n",
              "    </tr>\n",
              "    <tr>\n",
              "      <th>knn</th>\n",
              "      <td>0.76</td>\n",
              "      <td>0.72</td>\n",
              "      <td>0.76</td>\n",
              "      <td>0.59</td>\n",
              "    </tr>\n",
              "    <tr>\n",
              "      <th>forest</th>\n",
              "      <td>0.99</td>\n",
              "      <td>0.74</td>\n",
              "      <td>0.99</td>\n",
              "      <td>0.64</td>\n",
              "    </tr>\n",
              "  </tbody>\n",
              "</table>\n",
              "</div>\n",
              "      <button class=\"colab-df-convert\" onclick=\"convertToInteractive('df-548f0e0a-a7a1-426d-aa82-d54512671a5f')\"\n",
              "              title=\"Convert this dataframe to an interactive table.\"\n",
              "              style=\"display:none;\">\n",
              "        \n",
              "  <svg xmlns=\"http://www.w3.org/2000/svg\" height=\"24px\"viewBox=\"0 0 24 24\"\n",
              "       width=\"24px\">\n",
              "    <path d=\"M0 0h24v24H0V0z\" fill=\"none\"/>\n",
              "    <path d=\"M18.56 5.44l.94 2.06.94-2.06 2.06-.94-2.06-.94-.94-2.06-.94 2.06-2.06.94zm-11 1L8.5 8.5l.94-2.06 2.06-.94-2.06-.94L8.5 2.5l-.94 2.06-2.06.94zm10 10l.94 2.06.94-2.06 2.06-.94-2.06-.94-.94-2.06-.94 2.06-2.06.94z\"/><path d=\"M17.41 7.96l-1.37-1.37c-.4-.4-.92-.59-1.43-.59-.52 0-1.04.2-1.43.59L10.3 9.45l-7.72 7.72c-.78.78-.78 2.05 0 2.83L4 21.41c.39.39.9.59 1.41.59.51 0 1.02-.2 1.41-.59l7.78-7.78 2.81-2.81c.8-.78.8-2.07 0-2.86zM5.41 20L4 18.59l7.72-7.72 1.47 1.35L5.41 20z\"/>\n",
              "  </svg>\n",
              "      </button>\n",
              "      \n",
              "  <style>\n",
              "    .colab-df-container {\n",
              "      display:flex;\n",
              "      flex-wrap:wrap;\n",
              "      gap: 12px;\n",
              "    }\n",
              "\n",
              "    .colab-df-convert {\n",
              "      background-color: #E8F0FE;\n",
              "      border: none;\n",
              "      border-radius: 50%;\n",
              "      cursor: pointer;\n",
              "      display: none;\n",
              "      fill: #1967D2;\n",
              "      height: 32px;\n",
              "      padding: 0 0 0 0;\n",
              "      width: 32px;\n",
              "    }\n",
              "\n",
              "    .colab-df-convert:hover {\n",
              "      background-color: #E2EBFA;\n",
              "      box-shadow: 0px 1px 2px rgba(60, 64, 67, 0.3), 0px 1px 3px 1px rgba(60, 64, 67, 0.15);\n",
              "      fill: #174EA6;\n",
              "    }\n",
              "\n",
              "    [theme=dark] .colab-df-convert {\n",
              "      background-color: #3B4455;\n",
              "      fill: #D2E3FC;\n",
              "    }\n",
              "\n",
              "    [theme=dark] .colab-df-convert:hover {\n",
              "      background-color: #434B5C;\n",
              "      box-shadow: 0px 1px 3px 1px rgba(0, 0, 0, 0.15);\n",
              "      filter: drop-shadow(0px 1px 2px rgba(0, 0, 0, 0.3));\n",
              "      fill: #FFFFFF;\n",
              "    }\n",
              "  </style>\n",
              "\n",
              "      <script>\n",
              "        const buttonEl =\n",
              "          document.querySelector('#df-548f0e0a-a7a1-426d-aa82-d54512671a5f button.colab-df-convert');\n",
              "        buttonEl.style.display =\n",
              "          google.colab.kernel.accessAllowed ? 'block' : 'none';\n",
              "\n",
              "        async function convertToInteractive(key) {\n",
              "          const element = document.querySelector('#df-548f0e0a-a7a1-426d-aa82-d54512671a5f');\n",
              "          const dataTable =\n",
              "            await google.colab.kernel.invokeFunction('convertToInteractive',\n",
              "                                                     [key], {});\n",
              "          if (!dataTable) return;\n",
              "\n",
              "          const docLinkHtml = 'Like what you see? Visit the ' +\n",
              "            '<a target=\"_blank\" href=https://colab.research.google.com/notebooks/data_table.ipynb>data table notebook</a>'\n",
              "            + ' to learn more about interactive tables.';\n",
              "          element.innerHTML = '';\n",
              "          dataTable['output_type'] = 'display_data';\n",
              "          await google.colab.output.renderOutput(dataTable, element);\n",
              "          const docLink = document.createElement('div');\n",
              "          docLink.innerHTML = docLinkHtml;\n",
              "          element.appendChild(docLink);\n",
              "        }\n",
              "      </script>\n",
              "    </div>\n",
              "  </div>\n",
              "  "
            ]
          },
          "metadata": {},
          "execution_count": 70
        }
      ]
    },
    {
      "cell_type": "markdown",
      "source": [
        "Elbow curve in knn classifier (better results when we compare then other classifiers)."
      ],
      "metadata": {
        "id": "g8S-el3XBIp7"
      }
    },
    {
      "cell_type": "code",
      "source": [
        "error_rate_train = []\n",
        "error_rate_test = []\n",
        "\n",
        "for i in range(1, 41):\n",
        " \n",
        "    knn = KNeighborsClassifier(n_neighbors=i)\n",
        "    knn.fit(x_train, y_train)\n",
        "\n",
        "    pred_train = knn.predict(x_train)\n",
        "    pred_test = knn.predict(x_test)\n",
        "\n",
        "    error_rate_train.append(np.mean(pred_train != y_train))\n",
        "    error_rate_test.append(np.mean(pred_test != y_test))\n",
        "\n",
        "plt.figure(figsize=(12,8))\n",
        "plt.plot(range(1,41), error_rate_train, label=\"Train\")\n",
        "plt.plot(range(1,41), error_rate_test, label='Test')\n",
        "plt.legend()\n",
        "plt.title('Error Rate vs. K Value')\n",
        "plt.xlabel('K')\n",
        "plt.ylabel('Error Rate')\n",
        "plt.xticks([i for i in range(1, 41)])\n",
        "plt.show()"
      ],
      "metadata": {
        "colab": {
          "base_uri": "https://localhost:8080/",
          "height": 513
        },
        "id": "e12p_uTb9x29",
        "outputId": "13f1fb80-c20f-4bd5-c8b5-9484ee20d4f4"
      },
      "execution_count": 71,
      "outputs": [
        {
          "output_type": "display_data",
          "data": {
            "text/plain": [
              "<Figure size 864x576 with 1 Axes>"
            ],
            "image/png": "[encoded data removed]"
          },
          "metadata": {
            "needs_background": "light"
          }
        }
      ]
    },
    {
      "cell_type": "markdown",
      "source": [
        "We will use k = 9."
      ],
      "metadata": {
        "id": "sWgndjhzCFqu"
      }
    },
    {
      "cell_type": "code",
      "source": [
        "classifier = KNeighborsClassifier(n_neighbors=9)\n",
        "classifier.fit(x_train, y_train)\n",
        "\n",
        "pred = classifier.predict(x_test)\n",
        "\n",
        "print(metrics.classification_report(y_test, pred))"
      ],
      "metadata": {
        "colab": {
          "base_uri": "https://localhost:8080/"
        },
        "id": "YHIwjL3rB0hF",
        "outputId": "3378002d-3be4-48b2-f639-0ef534015f79"
      },
      "execution_count": 72,
      "outputs": [
        {
          "output_type": "stream",
          "name": "stdout",
          "text": [
            "              precision    recall  f1-score   support\n",
            "\n",
            "           0       0.71      0.78      0.74       188\n",
            "           1       0.74      0.66      0.70       177\n",
            "\n",
            "    accuracy                           0.72       365\n",
            "   macro avg       0.73      0.72      0.72       365\n",
            "weighted avg       0.72      0.72      0.72       365\n",
            "\n"
          ]
        }
      ]
    },
    {
      "cell_type": "markdown",
      "source": [
        "# Final considerations and next steps\n",
        "\n",
        "This simple project has as objective the constrution of Kaplan-Meier curve for patients with cancer. Furthermore, was constructed the classifier for predict if patient will be died or not based in three characteristics:\n",
        "\n",
        "1. Time,\n",
        "2. Tumor stage,\n",
        "3. Age.\n",
        "\n",
        "The classifier have 74% of precision and 66% of recall in test data.\n",
        "\n",
        "The next step in this project is use others variables for construct other Kaplan-Meier survival curves and get more informations about the survival probabilities of patients with cancer."
      ],
      "metadata": {
        "id": "q9IKdw6XDV8m"
      }
    }
  ],
  "metadata": {
    "kernelspec": {
      "display_name": "Python 3 (ipykernel)",
      "language": "python",
      "name": "python3"
    },
    "language_info": {
      "codemirror_mode": {
        "name": "ipython",
        "version": 3
      },
      "file_extension": ".py",
      "mimetype": "text/x-python",
      "name": "python",
      "nbconvert_exporter": "python",
      "pygments_lexer": "ipython3",
      "version": "3.9.7"
    },
    "vscode": {
      "interpreter": {
        "hash": "98aeee7233d56b926c92b76ee0fb46d9c7f691a9e8fa77a73b9ecf6291f5a0eb"
      }
    },
    "colab": {
      "name": "final_project.ipynb",
      "provenance": [],
      "collapsed_sections": []
    }
  },
  "nbformat": 4,
  "nbformat_minor": 0
}